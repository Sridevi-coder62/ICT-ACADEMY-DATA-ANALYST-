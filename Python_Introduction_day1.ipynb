{
  "cells": [
    {
      "cell_type": "markdown",
      "metadata": {
        "id": "EWV9GHmVF3sT"
      },
      "source": [
        "## 6. Installing Anaconda\n",
        "\n",
        "\n",
        "### Notes:\n",
        "- **Anaconda** is a distribution of Python for data science.\n",
        "- Steps to Install:\n",
        "1. Download from [Anaconda Official Website](https://www.anaconda.com/download)\n",
        "2. Run installer and follow instructions.\n",
        "3. Open **Anaconda Navigator** or **Anaconda Prompt**.\n",
        "4. Verify installation using:\n",
        "```bash\n",
        "conda --version\n",
        "```\n",
        "- Anaconda comes with **Jupyter Notebook, Spyder, Conda, and many libraries** pre-installed."
      ]
    },
    {
      "cell_type": "markdown",
      "metadata": {
        "id": "JRwMVGe4DDij"
      },
      "source": [
        "## 1. Python Introduction\n",
        "\n",
        "\n",
        "### Notes:\n",
        "- Python is a **high-level, interpreted, object-oriented** programming language.\n",
        "- Features:\n",
        "- Easy to read and write (simple syntax)\n",
        "- Open-source and cross-platform\n",
        "- Large standard library\n",
        "- Popular in **Data Analytics, Machine Learning, AI, and Web Development**,Devops\n",
        "- First program in Python is usually `Hello, World!`\n",
        "--latency issue becuse codes intrepreted line by line /"
      ]
    },
    {
      "cell_type": "code",
      "execution_count": null,
      "metadata": {
        "colab": {
          "base_uri": "https://localhost:8080/"
        },
        "id": "cGhzdqymDKNL",
        "outputId": "00835467-f6b2-470a-aa35-cd1a82fc286f"
      },
      "outputs": [
        {
          "name": "stdout",
          "output_type": "stream",
          "text": [
            "Hello, World!\n"
          ]
        }
      ],
      "source": [
        "### Code:\n",
        "# python\n",
        "print(\"Hello, World!\")"
      ]
    },
    {
      "cell_type": "markdown",
      "metadata": {
        "id": "LKsSiBULDVtq"
      },
      "source": [
        "## 2. Variables and Constants\n",
        "\n",
        "\n",
        "### Notes:\n",
        "- **Variable:** A name that refers to a value stored in memory.\n",
        "- Rules for variables:\n",
        "- Must start with a letter or underscore.\n",
        "- Cannot start with a number.\n",
        "- Case-sensitive.\n",
        "- **Constant:** Python does not have a true constant type. By convention, constants are written in **uppercase letters**."
      ]
    },
    {
      "cell_type": "code",
      "execution_count": null,
      "metadata": {
        "colab": {
          "base_uri": "https://localhost:8080/"
        },
        "id": "dQv0Y9cKDKuB",
        "outputId": "53f72d1d-5ba7-4fe9-f29b-a5bf8dc41340"
      },
      "outputs": [
        {
          "name": "stdout",
          "output_type": "stream",
          "text": [
            "Variable x: 10\n",
            "Constant PI: 3.14159\n"
          ]
        }
      ],
      "source": [
        "# python\n",
        "x = 10  # variable\n",
        "PI = 3.14159 # constant (by convention)\n",
        "\n",
        "print(\"Variable x:\", x)\n",
        "print(\"Constant PI:\", PI)"
      ]
    },
    {
      "cell_type": "code",
      "execution_count": null,
      "metadata": {
        "colab": {
          "base_uri": "https://localhost:8080/"
        },
        "id": "ffLq0mgbI8U-",
        "outputId": "2c382e88-44da-4f08-def2-c20e25079bf6"
      },
      "outputs": [
        {
          "name": "stdout",
          "output_type": "stream",
          "text": [
            "Variable x: 10\n",
            "Constant PI: 3.14159\n"
          ]
        }
      ],
      "source": [
        "x1 = 10  # variable (integer)\n",
        "PI = 3.14159  # constant (by convention)\n",
        "\n",
        "print(\"Variable x:\", x1)\n",
        "print(\"Constant PI:\", PI)\n"
      ]
    },
    {
      "cell_type": "code",
      "execution_count": null,
      "metadata": {
        "id": "-xrGkeTyJNHq"
      },
      "outputs": [],
      "source": [
        "del print   # restores built-in print\n"
      ]
    },
    {
      "cell_type": "code",
      "execution_count": null,
      "metadata": {
        "id": "Z5ipDMQ3JT5b"
      },
      "outputs": [],
      "source": []
    },
    {
      "cell_type": "markdown",
      "metadata": {
        "id": "5ABtgS9ODmIz"
      },
      "source": [
        "## 3. Data Types\n",
        "\n",
        "\n",
        "### Notes:\n",
        "- **Numeric Types:** int, float, complex\n",
        "- **Text Type:** str\n",
        "- **Boolean Type:** bool (True/False)\n",
        "- **Sequence Types:** list, tuple, range\n",
        "-Arrays-unidimension\n",
        "- **Set Types:** set, frozenset\n",
        "- **Mapping Type:** dict----key value pairs-----{cities:[bengaluru,mumbai,kolkata,delhi]}"
      ]
    },
    {
      "cell_type": "code",
      "execution_count": null,
      "metadata": {
        "colab": {
          "base_uri": "https://localhost:8080/"
        },
        "id": "y45oehQKKyXT",
        "outputId": "dbd03e8e-8de4-46ea-a679-32dd08695fae"
      },
      "outputs": [
        {
          "data": {
            "text/plain": [
              "range(0, 10)"
            ]
          },
          "execution_count": 17,
          "metadata": {},
          "output_type": "execute_result"
        }
      ],
      "source": [
        "x3= range(10)\n",
        "x3"
      ]
    },
    {
      "cell_type": "code",
      "execution_count": null,
      "metadata": {
        "colab": {
          "base_uri": "https://localhost:8080/"
        },
        "id": "9dbyKBTCDqSK",
        "outputId": "ebd9a1a2-81b9-40d2-e481-32aa552a3bc7"
      },
      "outputs": [
        {
          "name": "stdout",
          "output_type": "stream",
          "text": [
            "<class 'int'> <class 'float'> <class 'str'> <class 'bool'> <class 'list'> <class 'tuple'>\n"
          ]
        }
      ],
      "source": [
        "# python\n",
        "num = 5 # int\n",
        "decimal = 3.14 # float\n",
        "name = \"Python\" # string\n",
        "is_easy = True # boolean\n",
        "h=[4,7,9,'hi']#list\n",
        "g=(2,5)\n",
        "\n",
        "print(type(num), type(decimal), type(name), type(is_easy),type(h),type(g))"
      ]
    },
    {
      "cell_type": "markdown",
      "metadata": {
        "id": "tH1mwZEdDyFL"
      },
      "source": [
        "## 4. Array Implementation\n",
        "\n",
        "\n",
        "### Notes:\n",
        "- Python does not have a built-in array like C/Java.\n",
        "- **Lists** can be used as arrays.\n",
        "- For numeric operations, we can use the **array module** or **NumPy** (in Data Analytics)."
      ]
    },
    {
      "cell_type": "code",
      "execution_count": null,
      "metadata": {
        "colab": {
          "base_uri": "https://localhost:8080/"
        },
        "id": "Dt2w-shQD1Dz",
        "outputId": "ba1f2f8b-e6d4-4afd-88f4-af7fba9a514f"
      },
      "outputs": [
        {
          "name": "stdout",
          "output_type": "stream",
          "text": [
            "List as array: [10, 20, 30, 40]\n",
            "Array module: array('i', [6])\n"
          ]
        }
      ],
      "source": [
        "### Code:\n",
        "# ```python\n",
        "# Using list as array\n",
        "arr = [10, 20, 30, 40]\n",
        "print(\"List as array:\", arr)\n",
        "\n",
        "\n",
        "# Using array module\n",
        "import array\n",
        "arr2 = array.array('i', [6]) # 'i' means integer type,# 'f' for float,\n",
        "print(\"Array module:\", arr2)"
      ]
    },
    {
      "cell_type": "code",
      "execution_count": null,
      "metadata": {
        "colab": {
          "base_uri": "https://localhost:8080/"
        },
        "id": "OjbPMegfCZuE",
        "outputId": "243c1a3f-b7f9-4fdc-ece4-b9ef062f6616"
      },
      "outputs": [
        {
          "name": "stdout",
          "output_type": "stream",
          "text": [
            "Array module: array('i', [5, 78])\n"
          ]
        }
      ],
      "source": [
        "# Using array module\n",
        "import array\n",
        "arr2 = array.array( 'i',[5,78]) # 'i' means integer type\n",
        "print(\"Array module:\", arr2)"
      ]
    },
    {
      "cell_type": "code",
      "execution_count": null,
      "metadata": {
        "colab": {
          "base_uri": "https://localhost:8080/"
        },
        "id": "zVvQJuKIGYQs",
        "outputId": "7e96b6dd-538d-4395-a1a8-53045998b5c2"
      },
      "outputs": [
        {
          "data": {
            "text/plain": [
              "20"
            ]
          },
          "execution_count": 19,
          "metadata": {},
          "output_type": "execute_result"
        }
      ],
      "source": [
        "### Practice Exercise:\n",
        "# 1. Create a list with 5 numbers and print the first and last elements.\n",
        "# 2. Create an array using the `array` module with integers and print it.\n",
        "\n",
        "\n",
        "### Solutions:\n",
        "# ```python\n",
        "# Exercise 1\n",
        "nums = [5, 10, 15, 20, 25]\n",
        "# nums[3]\n",
        "nums[:3]\n",
        "#nums[0:2]\n",
        "\n",
        "#print(\"First:\", nums[0], \"Last:\", nums[-1])\n",
        "\n",
        "\n",
        "# # Exercise 2\n",
        "# import array\n",
        "# arr3 = array.array('i', [2, 4, 6, 8, 10])\n",
        "# print(arr3)"
      ]
    },
    {
      "cell_type": "code",
      "execution_count": null,
      "metadata": {
        "colab": {
          "base_uri": "https://localhost:8080/"
        },
        "id": "Y951BxSXPobF",
        "outputId": "f1bacd50-eb1e-423c-c513-fb142e3682b2"
      },
      "outputs": [
        {
          "data": {
            "text/plain": [
              "5"
            ]
          },
          "execution_count": 33,
          "metadata": {},
          "output_type": "execute_result"
        }
      ],
      "source": [
        "nums = [5, 10, 15, 20, 25]\n",
        "nums[0]"
      ]
    },
    {
      "cell_type": "code",
      "execution_count": null,
      "metadata": {
        "colab": {
          "base_uri": "https://localhost:8080/"
        },
        "id": "SK3hOgHTPsIM",
        "outputId": "2d693f3c-c19f-46b2-bd34-c5684d5c213e"
      },
      "outputs": [
        {
          "data": {
            "text/plain": [
              "25"
            ]
          },
          "execution_count": 34,
          "metadata": {},
          "output_type": "execute_result"
        }
      ],
      "source": [
        "nums[4]"
      ]
    },
    {
      "cell_type": "code",
      "execution_count": null,
      "metadata": {
        "colab": {
          "base_uri": "https://localhost:8080/"
        },
        "id": "ipgCt4zLR7ka",
        "outputId": "1a54e1ae-574c-4f90-f8d0-41459771a99a"
      },
      "outputs": [
        {
          "name": "stdout",
          "output_type": "stream",
          "text": [
            "array('i', [2, 4, 6, 8, 10])\n"
          ]
        }
      ],
      "source": [
        "import array\n",
        "arr3 = array.array('i', [2, 4, 6, 8, 10])\n",
        "print(arr3)"
      ]
    },
    {
      "cell_type": "markdown",
      "metadata": {
        "id": "phYRR3H5EB67"
      },
      "source": [
        "## 5. File Methods\n",
        "\n",
        "\n",
        "### Notes:\n",
        "- Files allow reading and writing data.\n",
        "- Modes:\n",
        "- \"r\" → read\n",
        "- \"w\" → write (overwrites)\n",
        "- \"a\" → append\n",
        "- \"b\" → binary\n",
        "- Always close files after use (or use `with` statement)."
      ]
    },
    {
      "cell_type": "code",
      "execution_count": null,
      "metadata": {
        "id": "lcGYNDg2ED48"
      },
      "outputs": [],
      "source": []
    },
    {
      "cell_type": "code",
      "execution_count": null,
      "metadata": {
        "id": "h-E9QMy0FHEy"
      },
      "outputs": [],
      "source": [
        "### Code:\n",
        "# ```python\n",
        "# Writing to a file\n",
        "with open(\"sample.txt\", \"w\") as f:\n",
        "  f.write(\"Hello, this is a sample file.\\n\")\n"
      ]
    },
    {
      "cell_type": "code",
      "execution_count": null,
      "metadata": {},
      "outputs": [],
      "source": []
    },
    {
      "cell_type": "code",
      "execution_count": null,
      "metadata": {
        "colab": {
          "base_uri": "https://localhost:8080/"
        },
        "id": "O6Qz94KGFna7",
        "outputId": "5e332e05-be7a-4b9f-a8fe-13fc5d45a90c"
      },
      "outputs": [
        {
          "name": "stdout",
          "output_type": "stream",
          "text": [
            "File content: Hello, this is a sample file.\n",
            "\n"
          ]
        }
      ],
      "source": [
        "# Reading from a file\n",
        "with open(\"sample.txt\", \"r\") as f:\n",
        "  content = f.read()\n",
        "print(\"File content:\", content)"
      ]
    },
    {
      "cell_type": "code",
      "execution_count": null,
      "metadata": {
        "id": "SCKSLoEyUCo2"
      },
      "outputs": [],
      "source": [
        "n"
      ]
    },
    {
      "cell_type": "markdown",
      "metadata": {
        "id": "XnH4rp0WGt_z"
      },
      "source": [
        "### Practice Exercise:\n",
        "1. Write your name into a file called `student.txt`.\n",
        "2. Read the content back and print it.\n",
        "\n",
        "\n",
        "### Solutions:\n",
        "```python\n",
        "# Writing\n",
        "with open(\"student.txt\", \"w\") as f:\n",
        "f.write(\"My name is Alice\")\n",
        "\n",
        "\n",
        "# Reading\n",
        "with open(\"student.txt\", \"r\") as f:\n",
        "data = f.read()\n",
        "print(data)"
      ]
    },
    {
      "cell_type": "code",
      "execution_count": null,
      "metadata": {
        "id": "F0RI6OONUOwd"
      },
      "outputs": [],
      "source": [
        "# Writing\n",
        "with open(\"student.txt\", \"w\") as f:\n",
        "  f.write(\"My name is Alice\")"
      ]
    },
    {
      "cell_type": "code",
      "execution_count": null,
      "metadata": {
        "colab": {
          "base_uri": "https://localhost:8080/"
        },
        "id": "6JU-I3BYGwGB",
        "outputId": "cba1c993-9d51-4493-ae83-8df099544334"
      },
      "outputs": [
        {
          "name": "stdout",
          "output_type": "stream",
          "text": [
            "My name is Alice\n"
          ]
        }
      ],
      "source": [
        "# Writing\n",
        "with open(\"student.txt\", \"r\") as f:\n",
        "  data=f.read()\n",
        "print(data)"
      ]
    }
  ],
  "metadata": {
    "colab": {
      "provenance": []
    },
    "kernelspec": {
      "display_name": "Python 3",
      "name": "python3"
    },
    "language_info": {
      "name": "python"
    }
  },
  "nbformat": 4,
  "nbformat_minor": 0
}
